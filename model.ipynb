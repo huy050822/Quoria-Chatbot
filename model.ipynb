{
 "cells": [
  {
   "cell_type": "code",
   "execution_count": null,
   "metadata": {},
   "outputs": [
    {
     "name": "stdout",
     "output_type": "stream",
     "text": [
      "Model Linear Regression\n",
      "R^2: 0.7299650007048908\n",
      "MSE: 212628755083038.9\n"
     ]
    }
   ],
   "source": [
    "import streamlit as st\n",
    "import numpy as np\n",
    "from sklearn.linear_model import LinearRegression\n",
    "import pandas as pd\n",
    "from sklearn.compose import ColumnTransformer\n",
    "from sklearn.pipeline import Pipeline\n",
    "from sklearn.preprocessing import OneHotEncoder, StandardScaler\n",
    "from sklearn.metrics import r2_score, mean_squared_error\n",
    "import joblib\n",
    "\n",
    "def train_model(csv_file_path):\n",
    "    data = pd.read_csv(csv_file_path)\n",
    "    data[\"Kilometer Driven\"] = pd.to_numeric(data[\"Kilometer Driven\"], errors=\"coerce\")\n",
    "    data[\"Price\"] = pd.to_numeric(data[\"Price\"].str.replace(\".\", \"\").str.replace(\" đ\", \"\"), errors=\"coerce\")\n",
    "    data[\"Year of Manufacture\"] = pd.to_numeric(data[\"Year of Manufacture\"], errors=\"coerce\")\n",
    "    data[\"Min_Price\"] = pd.to_numeric(data[\"Min_Price\"].str.replace(\" triệu\", \"\"), errors=\"coerce\")\n",
    "\n",
    "    data = data.drop(columns=[\"Thời gian đăng\"])\n",
    "\n",
    "    data = data.dropna(subset=[\"Model\", \"Brand\", \"Kilometer Driven\", \"Year of Manufacture\", \"Price\", \"Min_Price\"])\n",
    "   \n",
    "\n",
    "    # display(data)\n",
    "\n",
    "    features = [\"Model\", \"Brand\", \"Kilometer Driven\", \"Year of Manufacture\", \"Min_Price\"]\n",
    "    target = \"Price\"\n",
    "    X = data[features]\n",
    "    y = data[target]\n",
    "\n",
    "    categorical_features = [\"Model\", \"Brand\"]\n",
    "    numeric_features = [\"Year of Manufacture\", \"Min_Price\", \"Kilometer Driven\"]\n",
    "\n",
    "    preprocessor = ColumnTransformer(\n",
    "        transformers=[\n",
    "            (\"cat\", OneHotEncoder(handle_unknown='ignore'), categorical_features),\n",
    "            (\"num\", StandardScaler(), numeric_features)\n",
    "        ]\n",
    "    )\n",
    "\n",
    "    model = Pipeline(steps=[\n",
    "        ('preprocessor', preprocessor),\n",
    "        ('regressor', LinearRegression())\n",
    "    ])\n",
    "\n",
    "    model.fit(X, y)\n",
    "    # joblib.dump(model, \"linear regression.pkl\")\n",
    "    \n",
    "    y_pred = model.predict(X)\n",
    "    \n",
    "    r2 = r2_score(y, y_pred)\n",
    "    mse = mean_squared_error(y, y_pred)\n",
    "    print(f\"Model Linear Regression\")\n",
    "    print(f\"R^2: {r2}\")\n",
    "    print(f\"MSE: {mse}\")\n",
    "    \n",
    "    \n",
    "\n",
    "if __name__ == \"__main__\":\n",
    "    file_csv = \"CHOTOT_motorcycles.csv\"\n",
    "    train_model(file_csv)\n",
    "\n",
    "\n",
    "\n"
   ]
  },
  {
   "cell_type": "code",
   "execution_count": null,
   "metadata": {},
   "outputs": [],
   "source": []
  }
 ],
 "metadata": {
  "kernelspec": {
   "display_name": "base",
   "language": "python",
   "name": "python3"
  },
  "language_info": {
   "codemirror_mode": {
    "name": "ipython",
    "version": 3
   },
   "file_extension": ".py",
   "mimetype": "text/x-python",
   "name": "python",
   "nbconvert_exporter": "python",
   "pygments_lexer": "ipython3",
   "version": "3.12.4"
  }
 },
 "nbformat": 4,
 "nbformat_minor": 2
}
